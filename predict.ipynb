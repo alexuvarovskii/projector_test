{
 "cells": [
  {
   "cell_type": "code",
   "execution_count": 1,
   "metadata": {},
   "outputs": [
    {
     "name": "stderr",
     "output_type": "stream",
     "text": [
      "/Users/alexuvarovskiy/miniconda3/envs/test_projector/lib/python3.9/site-packages/tqdm/auto.py:21: TqdmWarning: IProgress not found. Please update jupyter and ipywidgets. See https://ipywidgets.readthedocs.io/en/stable/user_install.html\n",
      "  from .autonotebook import tqdm as notebook_tqdm\n"
     ]
    }
   ],
   "source": [
    "\n",
    "import torch\n",
    "import warnings\n",
    "import pandas as pd\n",
    "\n",
    "from torch.utils.data import Dataset, DataLoader\n",
    "from transformers import BertForSequenceClassification, AutoTokenizer\n",
    "from tqdm import tqdm\n",
    "warnings.filterwarnings(\"ignore\")\n"
   ]
  },
  {
   "cell_type": "code",
   "execution_count": 2,
   "metadata": {},
   "outputs": [],
   "source": [
    "class Config:\n",
    "    seed = 42\n",
    "    max_len = 314\n",
    "    epochs = 10\n",
    "    n_tokens = 20\n",
    "    learning_rate = 1e-5\n",
    "    n_splits = 8\n",
    "    # device = torch.device('cuda:0' if torch.cuda.is_available() else 'cpu')\n",
    "    device = torch.device('mps' if torch.cuda.is_available() else 'cpu')\n",
    "\n",
    "MODEL_NAME='bert-base-uncased'\n",
    "path_to_trained_model = 'pytorch_model.bin'"
   ]
  },
  {
   "cell_type": "code",
   "execution_count": null,
   "metadata": {},
   "outputs": [],
   "source": []
  },
  {
   "cell_type": "code",
   "execution_count": 3,
   "metadata": {},
   "outputs": [
    {
     "name": "stderr",
     "output_type": "stream",
     "text": [
      "Some weights of BertForSequenceClassification were not initialized from the model checkpoint at bert-base-cased and are newly initialized: ['classifier.bias', 'classifier.weight']\n",
      "You should probably TRAIN this model on a down-stream task to be able to use it for predictions and inference.\n"
     ]
    },
    {
     "data": {
      "text/plain": [
       "<All keys matched successfully>"
      ]
     },
     "execution_count": 3,
     "metadata": {},
     "output_type": "execute_result"
    }
   ],
   "source": [
    "eval_model = BertForSequenceClassification.from_pretrained(MODEL_NAME, num_labels=1)\n",
    "eval_model.load_state_dict(torch.load(path_to_trained_model, map_location=Config.device))"
   ]
  },
  {
   "cell_type": "code",
   "execution_count": 4,
   "metadata": {},
   "outputs": [
    {
     "data": {
      "text/plain": [
       "('./tokenizer/tokenizer_config.json',\n",
       " './tokenizer/special_tokens_map.json',\n",
       " './tokenizer/vocab.txt',\n",
       " './tokenizer/added_tokens.json',\n",
       " './tokenizer/tokenizer.json')"
      ]
     },
     "execution_count": 4,
     "metadata": {},
     "output_type": "execute_result"
    }
   ],
   "source": [
    "tokenizer = AutoTokenizer.from_pretrained(MODEL_NAME)\n",
    "tokenizer.save_pretrained('./tokenizer')"
   ]
  },
  {
   "cell_type": "code",
   "execution_count": 8,
   "metadata": {},
   "outputs": [],
   "source": [
    "class EvalDataset(Dataset):\n",
    "    def __init__(self, sentences, tokenizer, ids):\n",
    "        self.sentences = sentences\n",
    "        self.tokenizer = tokenizer\n",
    "        self.ids = ids\n",
    "        self.n_tokens = Config.n_tokens\n",
    "\n",
    "    def __len__(self):\n",
    "        return len(self.ids)\n",
    "    \n",
    "    def __getitem__(self, idx):\n",
    "        sentence = self.sentences[idx].strip()\n",
    "        \n",
    "        encoding = self.tokenizer.encode_plus(\n",
    "            sentence,\n",
    "            add_special_tokens=True,\n",
    "            max_length=Config.max_len,\n",
    "            padding='max_length',\n",
    "            return_attention_mask=True,\n",
    "            truncation=True\n",
    "        )\n",
    "\n",
    "        encoding['input_ids'] = torch.cat(\n",
    "            (\n",
    "                torch.full((1,self.n_tokens), 500).resize(20), \n",
    "                torch.tensor(encoding['input_ids'], dtype=torch.long)\n",
    "            )\n",
    "        )\n",
    "        encoding['attention_mask'] = torch.cat(\n",
    "            (\n",
    "                torch.full((1,self.n_tokens), 1).resize(20), \n",
    "                torch.tensor(encoding['attention_mask'], dtype=torch.long)\n",
    "            )\n",
    "        )\n",
    "\n",
    "        return {\n",
    "            'input_ids': encoding['input_ids'],\n",
    "            'attention_mask': encoding['attention_mask'],\n",
    "            'ids': self.ids[idx]\n",
    "        \n",
    "        }\n",
    "    \n"
   ]
  },
  {
   "cell_type": "code",
   "execution_count": 6,
   "metadata": {},
   "outputs": [],
   "source": [
    "def predict(df, model):\n",
    "    dataset = EvalDataset(\n",
    "        sentences=df.excerpt.values,\n",
    "        tokenizer=tokenizer,\n",
    "        ids=df.id.values\n",
    "    )\n",
    "    data_loader = DataLoader(\n",
    "        dataset,\n",
    "        pin_memory=True\n",
    "    )\n",
    "\n",
    "    model.to(Config.device)\n",
    "    model.eval()\n",
    "    preds = []\n",
    "    with torch.no_grad():\n",
    "        for data in tqdm(data_loader, total=len(data_loader)):\n",
    "            input_ids = data['input_ids'].to(Config.device)\n",
    "            attention_mask = data['attention_mask'].to(Config.device)\n",
    "\n",
    "            outputs = model(input_ids, attention_mask=attention_mask)\n",
    "            preds.extend(outputs.logits.view(-1).cpu().numpy())\n",
    "    \n",
    "    return preds"
   ]
  },
  {
   "cell_type": "code",
   "execution_count": 9,
   "metadata": {},
   "outputs": [
    {
     "name": "stderr",
     "output_type": "stream",
     "text": [
      "100%|██████████| 7/7 [00:01<00:00,  6.80it/s]\n"
     ]
    }
   ],
   "source": [
    "df_test = pd.read_csv('data/test.csv')\n",
    "\n",
    "predicts = predict(df_test, eval_model)\n",
    "df_test['target'] = predicts\n",
    "df_test[['id', 'target']].to_csv('submission_.csv', index=False)"
   ]
  },
  {
   "cell_type": "code",
   "execution_count": null,
   "metadata": {},
   "outputs": [],
   "source": []
  }
 ],
 "metadata": {
  "kernelspec": {
   "display_name": "test_projector",
   "language": "python",
   "name": "python3"
  },
  "language_info": {
   "codemirror_mode": {
    "name": "ipython",
    "version": 3
   },
   "file_extension": ".py",
   "mimetype": "text/x-python",
   "name": "python",
   "nbconvert_exporter": "python",
   "pygments_lexer": "ipython3",
   "version": "3.9.19"
  }
 },
 "nbformat": 4,
 "nbformat_minor": 2
}
